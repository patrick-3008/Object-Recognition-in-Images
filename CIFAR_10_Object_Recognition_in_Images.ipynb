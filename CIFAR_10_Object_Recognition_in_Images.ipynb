{
  "nbformat": 4,
  "nbformat_minor": 0,
  "metadata": {
    "colab": {
      "provenance": [],
      "authorship_tag": "ABX9TyPXO6PgZLFO3zCzpXZNbTYq",
      "include_colab_link": true
    },
    "kernelspec": {
      "name": "python3",
      "display_name": "Python 3"
    },
    "language_info": {
      "name": "python"
    }
  },
  "cells": [
    {
      "cell_type": "markdown",
      "metadata": {
        "id": "view-in-github",
        "colab_type": "text"
      },
      "source": [
        "<a href=\"https://colab.research.google.com/github/patrick-3008/Object-Recognition-in-Images/blob/main/CIFAR_10_Object_Recognition_in_Images.ipynb\" target=\"_parent\"><img src=\"https://colab.research.google.com/assets/colab-badge.svg\" alt=\"Open In Colab\"/></a>"
      ]
    },
    {
      "cell_type": "markdown",
      "source": [
        "# Downloading Dataset"
      ],
      "metadata": {
        "id": "L7MmVvEVwJmL"
      }
    },
    {
      "cell_type": "code",
      "execution_count": 1,
      "metadata": {
        "colab": {
          "base_uri": "https://localhost:8080/"
        },
        "id": "sdzKcK8BuRU0",
        "outputId": "8c56e894-dc46-4b0e-b92a-b16a71d5a1f3"
      },
      "outputs": [
        {
          "output_type": "stream",
          "name": "stdout",
          "text": [
            "Requirement already satisfied: kaggle in /usr/local/lib/python3.11/dist-packages (1.7.4.5)\n",
            "Requirement already satisfied: bleach in /usr/local/lib/python3.11/dist-packages (from kaggle) (6.2.0)\n",
            "Requirement already satisfied: certifi>=14.05.14 in /usr/local/lib/python3.11/dist-packages (from kaggle) (2025.8.3)\n",
            "Requirement already satisfied: charset-normalizer in /usr/local/lib/python3.11/dist-packages (from kaggle) (3.4.2)\n",
            "Requirement already satisfied: idna in /usr/local/lib/python3.11/dist-packages (from kaggle) (3.10)\n",
            "Requirement already satisfied: protobuf in /usr/local/lib/python3.11/dist-packages (from kaggle) (5.29.5)\n",
            "Requirement already satisfied: python-dateutil>=2.5.3 in /usr/local/lib/python3.11/dist-packages (from kaggle) (2.9.0.post0)\n",
            "Requirement already satisfied: python-slugify in /usr/local/lib/python3.11/dist-packages (from kaggle) (8.0.4)\n",
            "Requirement already satisfied: requests in /usr/local/lib/python3.11/dist-packages (from kaggle) (2.32.3)\n",
            "Requirement already satisfied: setuptools>=21.0.0 in /usr/local/lib/python3.11/dist-packages (from kaggle) (75.2.0)\n",
            "Requirement already satisfied: six>=1.10 in /usr/local/lib/python3.11/dist-packages (from kaggle) (1.17.0)\n",
            "Requirement already satisfied: text-unidecode in /usr/local/lib/python3.11/dist-packages (from kaggle) (1.3)\n",
            "Requirement already satisfied: tqdm in /usr/local/lib/python3.11/dist-packages (from kaggle) (4.67.1)\n",
            "Requirement already satisfied: urllib3>=1.15.1 in /usr/local/lib/python3.11/dist-packages (from kaggle) (2.5.0)\n",
            "Requirement already satisfied: webencodings in /usr/local/lib/python3.11/dist-packages (from kaggle) (0.5.1)\n"
          ]
        }
      ],
      "source": [
        "!pip install kaggle py7zr"
      ]
    },
    {
      "cell_type": "code",
      "source": [
        "# configuring the path of Kaggle.json file\n",
        "!mkdir -p ~/.kaggle\n",
        "!cp kaggle.json ~/.kaggle/\n",
        "!chmod 600 ~/.kaggle/kaggle.json"
      ],
      "metadata": {
        "id": "ORoVnBRwuWqU"
      },
      "execution_count": 2,
      "outputs": []
    },
    {
      "cell_type": "code",
      "source": [
        "# daatset api\n",
        "!kaggle competitions download -c cifar-10"
      ],
      "metadata": {
        "colab": {
          "base_uri": "https://localhost:8080/"
        },
        "id": "FOjiBH55u2Z2",
        "outputId": "a86ba08b-b8a7-4577-9846-7704f12f0bc9"
      },
      "execution_count": 5,
      "outputs": [
        {
          "output_type": "stream",
          "name": "stdout",
          "text": [
            "Downloading cifar-10.zip to /content\n",
            "100% 714M/715M [00:04<00:00, 262MB/s]\n",
            "100% 715M/715M [00:04<00:00, 160MB/s]\n"
          ]
        }
      ]
    },
    {
      "cell_type": "code",
      "source": [
        "!ls"
      ],
      "metadata": {
        "colab": {
          "base_uri": "https://localhost:8080/"
        },
        "id": "yjZMUphsu_3t",
        "outputId": "4c7f02d1-f30d-4f46-dea5-2ff52def7eea"
      },
      "execution_count": 6,
      "outputs": [
        {
          "output_type": "stream",
          "name": "stdout",
          "text": [
            "cifar-10.zip  kaggle.json  sample_data\n"
          ]
        }
      ]
    },
    {
      "cell_type": "code",
      "source": [
        "# extracting the compessed Dataset\n",
        "from zipfile import ZipFile\n",
        "dataset = '/content/cifar-10.zip'\n",
        "\n",
        "with ZipFile(dataset,'r') as zip:\n",
        "  zip.extractall()\n",
        "  print('The dataset is extracted')"
      ],
      "metadata": {
        "colab": {
          "base_uri": "https://localhost:8080/"
        },
        "id": "IGd7R1M-vPM2",
        "outputId": "d0570c0c-c8ae-4f56-aec5-f375db21b9e3"
      },
      "execution_count": 7,
      "outputs": [
        {
          "output_type": "stream",
          "name": "stdout",
          "text": [
            "The dataset is extracted\n"
          ]
        }
      ]
    },
    {
      "cell_type": "code",
      "source": [
        "!ls"
      ],
      "metadata": {
        "colab": {
          "base_uri": "https://localhost:8080/"
        },
        "id": "AQmQWTH7vUEO",
        "outputId": "bf9b1430-3b12-4e42-963f-6cbc4d4c138a"
      },
      "execution_count": 8,
      "outputs": [
        {
          "output_type": "stream",
          "name": "stdout",
          "text": [
            "cifar-10.zip  sample_data\t    test.7z   trainLabels.csv\n",
            "kaggle.json   sampleSubmission.csv  train.7z\n"
          ]
        }
      ]
    },
    {
      "cell_type": "code",
      "source": [
        "import py7zr\n",
        "\n",
        "archive = py7zr.SevenZipFile('/content/train.7z', mode='r')\n",
        "archive.extractall()     #archive.extractall(path='/content/Training Data')\n",
        "archive.close()"
      ],
      "metadata": {
        "id": "IjebwKwGvcS2"
      },
      "execution_count": 10,
      "outputs": []
    },
    {
      "cell_type": "code",
      "source": [
        "!ls"
      ],
      "metadata": {
        "colab": {
          "base_uri": "https://localhost:8080/"
        },
        "id": "eLFCDnBlvkBv",
        "outputId": "0cc9a6e4-50c9-47ab-ed0f-db174cdd11e6"
      },
      "execution_count": 11,
      "outputs": [
        {
          "output_type": "stream",
          "name": "stdout",
          "text": [
            "cifar-10.zip  sample_data\t    test.7z  train.7z\n",
            "kaggle.json   sampleSubmission.csv  train    trainLabels.csv\n"
          ]
        }
      ]
    },
    {
      "cell_type": "markdown",
      "source": [
        "# Data Preprocessing"
      ],
      "metadata": {
        "id": "n5V2Mfa2wNeC"
      }
    },
    {
      "cell_type": "code",
      "source": [
        "import os\n",
        "import numpy as np\n",
        "import pandas as pd\n",
        "from PIL import Image\n",
        "import matplotlib.pyplot as plt\n",
        "import matplotlib.image as mpimg\n",
        "from sklearn.model_selection import train_test_split"
      ],
      "metadata": {
        "id": "yq9sj8_Yvt4f"
      },
      "execution_count": 12,
      "outputs": []
    },
    {
      "cell_type": "code",
      "source": [
        "filenames = os.listdir('/content/train')\n",
        "print(type(filenames))\n",
        "print(len(filenames))"
      ],
      "metadata": {
        "colab": {
          "base_uri": "https://localhost:8080/"
        },
        "id": "WS1ytVqNv00g",
        "outputId": "7544a18b-86a3-4bbd-c35a-364e5ac68245"
      },
      "execution_count": 16,
      "outputs": [
        {
          "output_type": "stream",
          "name": "stdout",
          "text": [
            "<class 'list'>\n",
            "50000\n"
          ]
        }
      ]
    },
    {
      "cell_type": "code",
      "source": [
        "print(filenames[0:5]) # first 5 files\n",
        "print(filenames[-5:]) # last 5 files"
      ],
      "metadata": {
        "colab": {
          "base_uri": "https://localhost:8080/"
        },
        "id": "vtp2T9Yxv6rI",
        "outputId": "98f3f5bf-cd9f-4eaa-9040-25c53803dbb0"
      },
      "execution_count": 18,
      "outputs": [
        {
          "output_type": "stream",
          "name": "stdout",
          "text": [
            "['11119.png', '17595.png', '12894.png', '14067.png', '11307.png']\n",
            "['14397.png', '42336.png', '40528.png', '33496.png', '49994.png']\n"
          ]
        }
      ]
    },
    {
      "cell_type": "code",
      "source": [
        "labels_df = pd.read_csv('/content/trainLabels.csv')"
      ],
      "metadata": {
        "id": "nv6nDYFZwGn4"
      },
      "execution_count": 19,
      "outputs": []
    },
    {
      "cell_type": "code",
      "source": [
        "labels_df.shape"
      ],
      "metadata": {
        "colab": {
          "base_uri": "https://localhost:8080/"
        },
        "id": "WSGLLi23ws4z",
        "outputId": "0661945a-128c-4f56-b7f6-47518dcaf4a4"
      },
      "execution_count": 20,
      "outputs": [
        {
          "output_type": "execute_result",
          "data": {
            "text/plain": [
              "(50000, 2)"
            ]
          },
          "metadata": {},
          "execution_count": 20
        }
      ]
    },
    {
      "cell_type": "code",
      "source": [
        "labels_df.head()"
      ],
      "metadata": {
        "colab": {
          "base_uri": "https://localhost:8080/",
          "height": 206
        },
        "id": "gQSy9_tmwvPB",
        "outputId": "8176fb34-c005-477e-ca70-a624be83d381"
      },
      "execution_count": 21,
      "outputs": [
        {
          "output_type": "execute_result",
          "data": {
            "text/plain": [
              "   id       label\n",
              "0   1        frog\n",
              "1   2       truck\n",
              "2   3       truck\n",
              "3   4        deer\n",
              "4   5  automobile"
            ],
            "text/html": [
              "\n",
              "  <div id=\"df-21287636-08b1-42f0-9c23-dd543242ef5c\" class=\"colab-df-container\">\n",
              "    <div>\n",
              "<style scoped>\n",
              "    .dataframe tbody tr th:only-of-type {\n",
              "        vertical-align: middle;\n",
              "    }\n",
              "\n",
              "    .dataframe tbody tr th {\n",
              "        vertical-align: top;\n",
              "    }\n",
              "\n",
              "    .dataframe thead th {\n",
              "        text-align: right;\n",
              "    }\n",
              "</style>\n",
              "<table border=\"1\" class=\"dataframe\">\n",
              "  <thead>\n",
              "    <tr style=\"text-align: right;\">\n",
              "      <th></th>\n",
              "      <th>id</th>\n",
              "      <th>label</th>\n",
              "    </tr>\n",
              "  </thead>\n",
              "  <tbody>\n",
              "    <tr>\n",
              "      <th>0</th>\n",
              "      <td>1</td>\n",
              "      <td>frog</td>\n",
              "    </tr>\n",
              "    <tr>\n",
              "      <th>1</th>\n",
              "      <td>2</td>\n",
              "      <td>truck</td>\n",
              "    </tr>\n",
              "    <tr>\n",
              "      <th>2</th>\n",
              "      <td>3</td>\n",
              "      <td>truck</td>\n",
              "    </tr>\n",
              "    <tr>\n",
              "      <th>3</th>\n",
              "      <td>4</td>\n",
              "      <td>deer</td>\n",
              "    </tr>\n",
              "    <tr>\n",
              "      <th>4</th>\n",
              "      <td>5</td>\n",
              "      <td>automobile</td>\n",
              "    </tr>\n",
              "  </tbody>\n",
              "</table>\n",
              "</div>\n",
              "    <div class=\"colab-df-buttons\">\n",
              "\n",
              "  <div class=\"colab-df-container\">\n",
              "    <button class=\"colab-df-convert\" onclick=\"convertToInteractive('df-21287636-08b1-42f0-9c23-dd543242ef5c')\"\n",
              "            title=\"Convert this dataframe to an interactive table.\"\n",
              "            style=\"display:none;\">\n",
              "\n",
              "  <svg xmlns=\"http://www.w3.org/2000/svg\" height=\"24px\" viewBox=\"0 -960 960 960\">\n",
              "    <path d=\"M120-120v-720h720v720H120Zm60-500h600v-160H180v160Zm220 220h160v-160H400v160Zm0 220h160v-160H400v160ZM180-400h160v-160H180v160Zm440 0h160v-160H620v160ZM180-180h160v-160H180v160Zm440 0h160v-160H620v160Z\"/>\n",
              "  </svg>\n",
              "    </button>\n",
              "\n",
              "  <style>\n",
              "    .colab-df-container {\n",
              "      display:flex;\n",
              "      gap: 12px;\n",
              "    }\n",
              "\n",
              "    .colab-df-convert {\n",
              "      background-color: #E8F0FE;\n",
              "      border: none;\n",
              "      border-radius: 50%;\n",
              "      cursor: pointer;\n",
              "      display: none;\n",
              "      fill: #1967D2;\n",
              "      height: 32px;\n",
              "      padding: 0 0 0 0;\n",
              "      width: 32px;\n",
              "    }\n",
              "\n",
              "    .colab-df-convert:hover {\n",
              "      background-color: #E2EBFA;\n",
              "      box-shadow: 0px 1px 2px rgba(60, 64, 67, 0.3), 0px 1px 3px 1px rgba(60, 64, 67, 0.15);\n",
              "      fill: #174EA6;\n",
              "    }\n",
              "\n",
              "    .colab-df-buttons div {\n",
              "      margin-bottom: 4px;\n",
              "    }\n",
              "\n",
              "    [theme=dark] .colab-df-convert {\n",
              "      background-color: #3B4455;\n",
              "      fill: #D2E3FC;\n",
              "    }\n",
              "\n",
              "    [theme=dark] .colab-df-convert:hover {\n",
              "      background-color: #434B5C;\n",
              "      box-shadow: 0px 1px 3px 1px rgba(0, 0, 0, 0.15);\n",
              "      filter: drop-shadow(0px 1px 2px rgba(0, 0, 0, 0.3));\n",
              "      fill: #FFFFFF;\n",
              "    }\n",
              "  </style>\n",
              "\n",
              "    <script>\n",
              "      const buttonEl =\n",
              "        document.querySelector('#df-21287636-08b1-42f0-9c23-dd543242ef5c button.colab-df-convert');\n",
              "      buttonEl.style.display =\n",
              "        google.colab.kernel.accessAllowed ? 'block' : 'none';\n",
              "\n",
              "      async function convertToInteractive(key) {\n",
              "        const element = document.querySelector('#df-21287636-08b1-42f0-9c23-dd543242ef5c');\n",
              "        const dataTable =\n",
              "          await google.colab.kernel.invokeFunction('convertToInteractive',\n",
              "                                                    [key], {});\n",
              "        if (!dataTable) return;\n",
              "\n",
              "        const docLinkHtml = 'Like what you see? Visit the ' +\n",
              "          '<a target=\"_blank\" href=https://colab.research.google.com/notebooks/data_table.ipynb>data table notebook</a>'\n",
              "          + ' to learn more about interactive tables.';\n",
              "        element.innerHTML = '';\n",
              "        dataTable['output_type'] = 'display_data';\n",
              "        await google.colab.output.renderOutput(dataTable, element);\n",
              "        const docLink = document.createElement('div');\n",
              "        docLink.innerHTML = docLinkHtml;\n",
              "        element.appendChild(docLink);\n",
              "      }\n",
              "    </script>\n",
              "  </div>\n",
              "\n",
              "\n",
              "    <div id=\"df-98816e00-6153-46f8-b52b-d74efa9f0f82\">\n",
              "      <button class=\"colab-df-quickchart\" onclick=\"quickchart('df-98816e00-6153-46f8-b52b-d74efa9f0f82')\"\n",
              "                title=\"Suggest charts\"\n",
              "                style=\"display:none;\">\n",
              "\n",
              "<svg xmlns=\"http://www.w3.org/2000/svg\" height=\"24px\"viewBox=\"0 0 24 24\"\n",
              "     width=\"24px\">\n",
              "    <g>\n",
              "        <path d=\"M19 3H5c-1.1 0-2 .9-2 2v14c0 1.1.9 2 2 2h14c1.1 0 2-.9 2-2V5c0-1.1-.9-2-2-2zM9 17H7v-7h2v7zm4 0h-2V7h2v10zm4 0h-2v-4h2v4z\"/>\n",
              "    </g>\n",
              "</svg>\n",
              "      </button>\n",
              "\n",
              "<style>\n",
              "  .colab-df-quickchart {\n",
              "      --bg-color: #E8F0FE;\n",
              "      --fill-color: #1967D2;\n",
              "      --hover-bg-color: #E2EBFA;\n",
              "      --hover-fill-color: #174EA6;\n",
              "      --disabled-fill-color: #AAA;\n",
              "      --disabled-bg-color: #DDD;\n",
              "  }\n",
              "\n",
              "  [theme=dark] .colab-df-quickchart {\n",
              "      --bg-color: #3B4455;\n",
              "      --fill-color: #D2E3FC;\n",
              "      --hover-bg-color: #434B5C;\n",
              "      --hover-fill-color: #FFFFFF;\n",
              "      --disabled-bg-color: #3B4455;\n",
              "      --disabled-fill-color: #666;\n",
              "  }\n",
              "\n",
              "  .colab-df-quickchart {\n",
              "    background-color: var(--bg-color);\n",
              "    border: none;\n",
              "    border-radius: 50%;\n",
              "    cursor: pointer;\n",
              "    display: none;\n",
              "    fill: var(--fill-color);\n",
              "    height: 32px;\n",
              "    padding: 0;\n",
              "    width: 32px;\n",
              "  }\n",
              "\n",
              "  .colab-df-quickchart:hover {\n",
              "    background-color: var(--hover-bg-color);\n",
              "    box-shadow: 0 1px 2px rgba(60, 64, 67, 0.3), 0 1px 3px 1px rgba(60, 64, 67, 0.15);\n",
              "    fill: var(--button-hover-fill-color);\n",
              "  }\n",
              "\n",
              "  .colab-df-quickchart-complete:disabled,\n",
              "  .colab-df-quickchart-complete:disabled:hover {\n",
              "    background-color: var(--disabled-bg-color);\n",
              "    fill: var(--disabled-fill-color);\n",
              "    box-shadow: none;\n",
              "  }\n",
              "\n",
              "  .colab-df-spinner {\n",
              "    border: 2px solid var(--fill-color);\n",
              "    border-color: transparent;\n",
              "    border-bottom-color: var(--fill-color);\n",
              "    animation:\n",
              "      spin 1s steps(1) infinite;\n",
              "  }\n",
              "\n",
              "  @keyframes spin {\n",
              "    0% {\n",
              "      border-color: transparent;\n",
              "      border-bottom-color: var(--fill-color);\n",
              "      border-left-color: var(--fill-color);\n",
              "    }\n",
              "    20% {\n",
              "      border-color: transparent;\n",
              "      border-left-color: var(--fill-color);\n",
              "      border-top-color: var(--fill-color);\n",
              "    }\n",
              "    30% {\n",
              "      border-color: transparent;\n",
              "      border-left-color: var(--fill-color);\n",
              "      border-top-color: var(--fill-color);\n",
              "      border-right-color: var(--fill-color);\n",
              "    }\n",
              "    40% {\n",
              "      border-color: transparent;\n",
              "      border-right-color: var(--fill-color);\n",
              "      border-top-color: var(--fill-color);\n",
              "    }\n",
              "    60% {\n",
              "      border-color: transparent;\n",
              "      border-right-color: var(--fill-color);\n",
              "    }\n",
              "    80% {\n",
              "      border-color: transparent;\n",
              "      border-right-color: var(--fill-color);\n",
              "      border-bottom-color: var(--fill-color);\n",
              "    }\n",
              "    90% {\n",
              "      border-color: transparent;\n",
              "      border-bottom-color: var(--fill-color);\n",
              "    }\n",
              "  }\n",
              "</style>\n",
              "\n",
              "      <script>\n",
              "        async function quickchart(key) {\n",
              "          const quickchartButtonEl =\n",
              "            document.querySelector('#' + key + ' button');\n",
              "          quickchartButtonEl.disabled = true;  // To prevent multiple clicks.\n",
              "          quickchartButtonEl.classList.add('colab-df-spinner');\n",
              "          try {\n",
              "            const charts = await google.colab.kernel.invokeFunction(\n",
              "                'suggestCharts', [key], {});\n",
              "          } catch (error) {\n",
              "            console.error('Error during call to suggestCharts:', error);\n",
              "          }\n",
              "          quickchartButtonEl.classList.remove('colab-df-spinner');\n",
              "          quickchartButtonEl.classList.add('colab-df-quickchart-complete');\n",
              "        }\n",
              "        (() => {\n",
              "          let quickchartButtonEl =\n",
              "            document.querySelector('#df-98816e00-6153-46f8-b52b-d74efa9f0f82 button');\n",
              "          quickchartButtonEl.style.display =\n",
              "            google.colab.kernel.accessAllowed ? 'block' : 'none';\n",
              "        })();\n",
              "      </script>\n",
              "    </div>\n",
              "\n",
              "    </div>\n",
              "  </div>\n"
            ],
            "application/vnd.google.colaboratory.intrinsic+json": {
              "type": "dataframe",
              "variable_name": "labels_df",
              "summary": "{\n  \"name\": \"labels_df\",\n  \"rows\": 50000,\n  \"fields\": [\n    {\n      \"column\": \"id\",\n      \"properties\": {\n        \"dtype\": \"number\",\n        \"std\": 14433,\n        \"min\": 1,\n        \"max\": 50000,\n        \"num_unique_values\": 50000,\n        \"samples\": [\n          33554,\n          9428,\n          200\n        ],\n        \"semantic_type\": \"\",\n        \"description\": \"\"\n      }\n    },\n    {\n      \"column\": \"label\",\n      \"properties\": {\n        \"dtype\": \"category\",\n        \"num_unique_values\": 10,\n        \"samples\": [\n          \"dog\",\n          \"truck\",\n          \"horse\"\n        ],\n        \"semantic_type\": \"\",\n        \"description\": \"\"\n      }\n    }\n  ]\n}"
            }
          },
          "metadata": {},
          "execution_count": 21
        }
      ]
    },
    {
      "cell_type": "code",
      "source": [
        "labels_df['label'].value_counts() # the classes"
      ],
      "metadata": {
        "colab": {
          "base_uri": "https://localhost:8080/",
          "height": 429
        },
        "id": "tSo2MEz8w1aT",
        "outputId": "9bde6412-9692-4094-d288-b81f6f45e634"
      },
      "execution_count": 22,
      "outputs": [
        {
          "output_type": "execute_result",
          "data": {
            "text/plain": [
              "label\n",
              "frog          5000\n",
              "truck         5000\n",
              "deer          5000\n",
              "automobile    5000\n",
              "bird          5000\n",
              "horse         5000\n",
              "ship          5000\n",
              "cat           5000\n",
              "dog           5000\n",
              "airplane      5000\n",
              "Name: count, dtype: int64"
            ],
            "text/html": [
              "<div>\n",
              "<style scoped>\n",
              "    .dataframe tbody tr th:only-of-type {\n",
              "        vertical-align: middle;\n",
              "    }\n",
              "\n",
              "    .dataframe tbody tr th {\n",
              "        vertical-align: top;\n",
              "    }\n",
              "\n",
              "    .dataframe thead th {\n",
              "        text-align: right;\n",
              "    }\n",
              "</style>\n",
              "<table border=\"1\" class=\"dataframe\">\n",
              "  <thead>\n",
              "    <tr style=\"text-align: right;\">\n",
              "      <th></th>\n",
              "      <th>count</th>\n",
              "    </tr>\n",
              "    <tr>\n",
              "      <th>label</th>\n",
              "      <th></th>\n",
              "    </tr>\n",
              "  </thead>\n",
              "  <tbody>\n",
              "    <tr>\n",
              "      <th>frog</th>\n",
              "      <td>5000</td>\n",
              "    </tr>\n",
              "    <tr>\n",
              "      <th>truck</th>\n",
              "      <td>5000</td>\n",
              "    </tr>\n",
              "    <tr>\n",
              "      <th>deer</th>\n",
              "      <td>5000</td>\n",
              "    </tr>\n",
              "    <tr>\n",
              "      <th>automobile</th>\n",
              "      <td>5000</td>\n",
              "    </tr>\n",
              "    <tr>\n",
              "      <th>bird</th>\n",
              "      <td>5000</td>\n",
              "    </tr>\n",
              "    <tr>\n",
              "      <th>horse</th>\n",
              "      <td>5000</td>\n",
              "    </tr>\n",
              "    <tr>\n",
              "      <th>ship</th>\n",
              "      <td>5000</td>\n",
              "    </tr>\n",
              "    <tr>\n",
              "      <th>cat</th>\n",
              "      <td>5000</td>\n",
              "    </tr>\n",
              "    <tr>\n",
              "      <th>dog</th>\n",
              "      <td>5000</td>\n",
              "    </tr>\n",
              "    <tr>\n",
              "      <th>airplane</th>\n",
              "      <td>5000</td>\n",
              "    </tr>\n",
              "  </tbody>\n",
              "</table>\n",
              "</div><br><label><b>dtype:</b> int64</label>"
            ]
          },
          "metadata": {},
          "execution_count": 22
        }
      ]
    },
    {
      "cell_type": "code",
      "source": [
        "labels_dictionary = {'airplane':0, 'automobile':1, 'bird':2, 'cat':3, 'deer':4, 'dog':5, 'frog':6, 'horse':7, 'ship':8, 'truck':9}\n",
        "\n",
        "labels = [labels_dictionary[i] for i in labels_df['label']]"
      ],
      "metadata": {
        "id": "kofRPSF4xwuG"
      },
      "execution_count": 24,
      "outputs": []
    },
    {
      "cell_type": "code",
      "source": [
        "print(labels[0:5])\n",
        "print(labels[-5:])"
      ],
      "metadata": {
        "colab": {
          "base_uri": "https://localhost:8080/"
        },
        "id": "BDNiWecxx___",
        "outputId": "ebfcc131-913d-472b-a6f3-23bb9b76c30f"
      },
      "execution_count": 25,
      "outputs": [
        {
          "output_type": "stream",
          "name": "stdout",
          "text": [
            "[6, 9, 9, 4, 1]\n",
            "[2, 6, 9, 1, 1]\n"
          ]
        }
      ]
    },
    {
      "cell_type": "code",
      "source": [
        "# displaying sample image\n",
        "import cv2\n",
        "from google.colab.patches import cv2_imshow\n",
        "\n",
        "img = cv2.imread('/content/train/796.png')\n",
        "cv2_imshow(img)"
      ],
      "metadata": {
        "colab": {
          "base_uri": "https://localhost:8080/",
          "height": 49
        },
        "id": "8mUWCvbkyA3u",
        "outputId": "86a899a2-eadf-48e2-ea2b-88406db9dce4"
      },
      "execution_count": 27,
      "outputs": [
        {
          "output_type": "display_data",
          "data": {
            "text/plain": [
              "<PIL.Image.Image image mode=RGB size=32x32>"
            ],
            "image/png": "[encoded data removed]",
            "image/jpeg": "[encoded data removed]"
          },
          "metadata": {}
        }
      ]
    },
    {
      "cell_type": "code",
      "source": [
        "id_list = list(labels_df['id'])\n",
        "print(id_list[0:5])\n",
        "print(id_list[-5:])"
      ],
      "metadata": {
        "colab": {
          "base_uri": "https://localhost:8080/"
        },
        "id": "1eFqaZpUyEWn",
        "outputId": "3564c915-38c1-4043-dd97-a26e9c705dd8"
      },
      "execution_count": 28,
      "outputs": [
        {
          "output_type": "stream",
          "name": "stdout",
          "text": [
            "[1, 2, 3, 4, 5]\n",
            "[49996, 49997, 49998, 49999, 50000]\n"
          ]
        }
      ]
    },
    {
      "cell_type": "code",
      "source": [
        "# convert images to numpy arrays\n",
        "\n",
        "train_data_folder = '/content/train/'\n",
        "\n",
        "data = []\n",
        "\n",
        "for id in id_list:\n",
        "\n",
        "  image = Image.open(train_data_folder + str(id) + '.png')\n",
        "  image = np.array(image)\n",
        "  data.append(image)"
      ],
      "metadata": {
        "id": "UQ2KldJg1FG5"
      },
      "execution_count": 29,
      "outputs": []
    },
    {
      "cell_type": "code",
      "source": [
        "print(type(data))\n",
        "print(len(data))\n",
        "print(data[0].shape)\n",
        "print(data[0])"
      ],
      "metadata": {
        "colab": {
          "base_uri": "https://localhost:8080/"
        },
        "id": "gzReM_q_1ZFb",
        "outputId": "ad5d741b-2f6e-4be1-b2c3-3d2195e1347e"
      },
      "execution_count": 30,
      "outputs": [
        {
          "output_type": "stream",
          "name": "stdout",
          "text": [
            "<class 'list'>\n",
            "50000\n",
            "(32, 32, 3)\n",
            "[[[ 59  62  63]\n",
            "  [ 43  46  45]\n",
            "  [ 50  48  43]\n",
            "  ...\n",
            "  [158 132 108]\n",
            "  [152 125 102]\n",
            "  [148 124 103]]\n",
            "\n",
            " [[ 16  20  20]\n",
            "  [  0   0   0]\n",
            "  [ 18   8   0]\n",
            "  ...\n",
            "  [123  88  55]\n",
            "  [119  83  50]\n",
            "  [122  87  57]]\n",
            "\n",
            " [[ 25  24  21]\n",
            "  [ 16   7   0]\n",
            "  [ 49  27   8]\n",
            "  ...\n",
            "  [118  84  50]\n",
            "  [120  84  50]\n",
            "  [109  73  42]]\n",
            "\n",
            " ...\n",
            "\n",
            " [[208 170  96]\n",
            "  [201 153  34]\n",
            "  [198 161  26]\n",
            "  ...\n",
            "  [160 133  70]\n",
            "  [ 56  31   7]\n",
            "  [ 53  34  20]]\n",
            "\n",
            " [[180 139  96]\n",
            "  [173 123  42]\n",
            "  [186 144  30]\n",
            "  ...\n",
            "  [184 148  94]\n",
            "  [ 97  62  34]\n",
            "  [ 83  53  34]]\n",
            "\n",
            " [[177 144 116]\n",
            "  [168 129  94]\n",
            "  [179 142  87]\n",
            "  ...\n",
            "  [216 184 140]\n",
            "  [151 118  84]\n",
            "  [123  92  72]]]\n"
          ]
        }
      ]
    },
    {
      "cell_type": "code",
      "source": [
        "# convert image list and label list to numpy arrays\n",
        "\n",
        "X = np.array(data)\n",
        "Y = np.array(labels)"
      ],
      "metadata": {
        "id": "_fXbiMSl1kLC"
      },
      "execution_count": 31,
      "outputs": []
    },
    {
      "cell_type": "code",
      "source": [
        "print(X.shape)\n",
        "print(Y.shape)"
      ],
      "metadata": {
        "colab": {
          "base_uri": "https://localhost:8080/"
        },
        "id": "PqQ_uf5W12Mi",
        "outputId": "aef2b4c7-ed9e-4f00-877a-e065b287050d"
      },
      "execution_count": 32,
      "outputs": [
        {
          "output_type": "stream",
          "name": "stdout",
          "text": [
            "(50000, 32, 32, 3)\n",
            "(50000,)\n"
          ]
        }
      ]
    },
    {
      "cell_type": "markdown",
      "source": [
        "# Training"
      ],
      "metadata": {
        "id": "yloeXhwI1978"
      }
    },
    {
      "cell_type": "code",
      "source": [
        "X_train, X_test, Y_train, Y_test = train_test_split(X, Y, test_size=0.2, random_state=41)"
      ],
      "metadata": {
        "id": "l_Xw93ht16BT"
      },
      "execution_count": 35,
      "outputs": []
    },
    {
      "cell_type": "code",
      "source": [
        "print(X.shape, X_train.shape, X_test.shape)"
      ],
      "metadata": {
        "colab": {
          "base_uri": "https://localhost:8080/"
        },
        "id": "y3kI63Tc2EKL",
        "outputId": "8377c114-7e3d-47f2-a69a-f00d2a1d5099"
      },
      "execution_count": 36,
      "outputs": [
        {
          "output_type": "stream",
          "name": "stdout",
          "text": [
            "(50000, 32, 32, 3) (40000, 32, 32, 3) (10000, 32, 32, 3)\n"
          ]
        }
      ]
    },
    {
      "cell_type": "code",
      "source": [
        "# scaling the data\n",
        "\n",
        "X_train_scaled = X_train/255\n",
        "\n",
        "X_test_scaled = X_test/255"
      ],
      "metadata": {
        "id": "MhleCYO_2Gdb"
      },
      "execution_count": 37,
      "outputs": []
    },
    {
      "cell_type": "code",
      "source": [
        "X_train_scaled"
      ],
      "metadata": {
        "collapsed": true,
        "colab": {
          "base_uri": "https://localhost:8080/"
        },
        "id": "cmMtC8_I2Yyk",
        "outputId": "1608612e-1da8-4bea-e4d8-76f1f71b546d"
      },
      "execution_count": 38,
      "outputs": [
        {
          "output_type": "execute_result",
          "data": {
            "text/plain": [
              "array([[[[0.99607843, 1.        , 0.97647059],\n",
              "         [0.98431373, 0.98431373, 0.96470588],\n",
              "         [0.98823529, 0.98823529, 0.97254902],\n",
              "         ...,\n",
              "         [0.98039216, 0.98431373, 0.96470588],\n",
              "         [0.98039216, 0.98431373, 0.95686275],\n",
              "         [0.97647059, 0.98039216, 0.9372549 ]],\n",
              "\n",
              "        [[1.        , 1.        , 0.98823529],\n",
              "         [0.99607843, 1.        , 0.97647059],\n",
              "         [1.        , 1.        , 0.98431373],\n",
              "         ...,\n",
              "         [1.        , 1.        , 0.98431373],\n",
              "         [1.        , 1.        , 0.98039216],\n",
              "         [0.99215686, 0.99607843, 0.96078431]],\n",
              "\n",
              "        [[1.        , 1.        , 0.98431373],\n",
              "         [0.99215686, 0.99607843, 0.97254902],\n",
              "         [0.99607843, 0.99607843, 0.97647059],\n",
              "         ...,\n",
              "         [1.        , 1.        , 0.98431373],\n",
              "         [0.99607843, 1.        , 0.98039216],\n",
              "         [0.98823529, 0.99215686, 0.96470588]],\n",
              "\n",
              "        ...,\n",
              "\n",
              "        [[1.        , 1.        , 1.        ],\n",
              "         [0.99607843, 0.99607843, 0.99607843],\n",
              "         [1.        , 1.        , 1.        ],\n",
              "         ...,\n",
              "         [0.72941176, 0.66666667, 0.58039216],\n",
              "         [0.85098039, 0.80784314, 0.71372549],\n",
              "         [0.91764706, 0.90980392, 0.80784314]],\n",
              "\n",
              "        [[1.        , 1.        , 1.        ],\n",
              "         [1.        , 1.        , 1.        ],\n",
              "         [1.        , 1.        , 1.        ],\n",
              "         ...,\n",
              "         [0.96862745, 0.95294118, 0.87843137],\n",
              "         [0.97254902, 0.96862745, 0.89803922],\n",
              "         [0.97647059, 0.98431373, 0.91764706]],\n",
              "\n",
              "        [[1.        , 1.        , 1.        ],\n",
              "         [0.98823529, 0.98823529, 0.98823529],\n",
              "         [0.98823529, 0.98823529, 0.98823529],\n",
              "         ...,\n",
              "         [0.96470588, 0.98039216, 0.92941176],\n",
              "         [0.96470588, 0.98431373, 0.9372549 ],\n",
              "         [0.96862745, 0.98039216, 0.94901961]]],\n",
              "\n",
              "\n",
              "       [[[0.11764706, 0.29411765, 0.09019608],\n",
              "         [0.17647059, 0.37254902, 0.15294118],\n",
              "         [0.17254902, 0.36862745, 0.1372549 ],\n",
              "         ...,\n",
              "         [0.        , 0.        , 0.        ],\n",
              "         [0.16470588, 0.16470588, 0.16470588],\n",
              "         [0.63921569, 0.63921569, 0.63921569]],\n",
              "\n",
              "        [[0.13333333, 0.28235294, 0.10588235],\n",
              "         [0.29803922, 0.51764706, 0.27058824],\n",
              "         [0.22745098, 0.48235294, 0.19215686],\n",
              "         ...,\n",
              "         [0.        , 0.        , 0.        ],\n",
              "         [0.07058824, 0.07058824, 0.07058824],\n",
              "         [0.4627451 , 0.4627451 , 0.4627451 ]],\n",
              "\n",
              "        [[0.28235294, 0.42745098, 0.25098039],\n",
              "         [0.42352941, 0.6627451 , 0.38823529],\n",
              "         [0.23529412, 0.50588235, 0.18431373],\n",
              "         ...,\n",
              "         [0.        , 0.        , 0.        ],\n",
              "         [0.05490196, 0.05490196, 0.05490196],\n",
              "         [0.43137255, 0.43137255, 0.43137255]],\n",
              "\n",
              "        ...,\n",
              "\n",
              "        [[0.79215686, 0.85098039, 0.56470588],\n",
              "         [0.75294118, 0.81176471, 0.5254902 ],\n",
              "         [0.77254902, 0.87058824, 0.56078431],\n",
              "         ...,\n",
              "         [0.74901961, 0.85098039, 0.4745098 ],\n",
              "         [0.59215686, 0.63529412, 0.42745098],\n",
              "         [0.47058824, 0.4745098 , 0.43921569]],\n",
              "\n",
              "        [[0.69803922, 0.74901961, 0.52941176],\n",
              "         [0.65098039, 0.69803922, 0.48235294],\n",
              "         [0.69019608, 0.74901961, 0.5254902 ],\n",
              "         ...,\n",
              "         [0.61176471, 0.69019608, 0.44705882],\n",
              "         [0.50588235, 0.5372549 , 0.37647059],\n",
              "         [0.4745098 , 0.48627451, 0.42352941]],\n",
              "\n",
              "        [[0.64705882, 0.6745098 , 0.57647059],\n",
              "         [0.49019608, 0.52156863, 0.42352941],\n",
              "         [0.49411765, 0.52156863, 0.42352941],\n",
              "         ...,\n",
              "         [0.47058824, 0.50980392, 0.41568627],\n",
              "         [0.4627451 , 0.48235294, 0.38823529],\n",
              "         [0.61960784, 0.62745098, 0.57647059]]],\n",
              "\n",
              "\n",
              "       [[[0.02745098, 0.02745098, 0.03529412],\n",
              "         [0.04705882, 0.03137255, 0.01960784],\n",
              "         [0.11372549, 0.07843137, 0.05098039],\n",
              "         ...,\n",
              "         [0.15294118, 0.1372549 , 0.10196078],\n",
              "         [0.16470588, 0.14509804, 0.10980392],\n",
              "         [0.15294118, 0.1372549 , 0.10980392]],\n",
              "\n",
              "        [[0.04705882, 0.04313725, 0.03921569],\n",
              "         [0.06666667, 0.04705882, 0.03137255],\n",
              "         [0.16078431, 0.12156863, 0.09019608],\n",
              "         ...,\n",
              "         [0.16862745, 0.14117647, 0.10196078],\n",
              "         [0.18823529, 0.16078431, 0.12156863],\n",
              "         [0.21568627, 0.19215686, 0.16078431]],\n",
              "\n",
              "        [[0.08627451, 0.07843137, 0.05882353],\n",
              "         [0.10980392, 0.08235294, 0.05490196],\n",
              "         [0.19215686, 0.14117647, 0.10980392],\n",
              "         ...,\n",
              "         [0.19215686, 0.15686275, 0.11764706],\n",
              "         [0.20784314, 0.17254902, 0.13333333],\n",
              "         [0.28235294, 0.25098039, 0.21568627]],\n",
              "\n",
              "        ...,\n",
              "\n",
              "        [[0.72941176, 0.67843137, 0.64313725],\n",
              "         [0.75686275, 0.70588235, 0.67058824],\n",
              "         [0.78039216, 0.72941176, 0.69411765],\n",
              "         ...,\n",
              "         [0.80392157, 0.76470588, 0.75686275],\n",
              "         [0.77254902, 0.73333333, 0.72941176],\n",
              "         [0.74509804, 0.70980392, 0.69411765]],\n",
              "\n",
              "        [[0.73333333, 0.68235294, 0.64313725],\n",
              "         [0.75294118, 0.70196078, 0.66666667],\n",
              "         [0.78431373, 0.73333333, 0.69803922],\n",
              "         ...,\n",
              "         [0.80392157, 0.76470588, 0.75686275],\n",
              "         [0.77647059, 0.7372549 , 0.72941176],\n",
              "         [0.74509804, 0.70980392, 0.69411765]],\n",
              "\n",
              "        [[0.71764706, 0.66666667, 0.63137255],\n",
              "         [0.7372549 , 0.68627451, 0.65098039],\n",
              "         [0.76470588, 0.71372549, 0.67843137],\n",
              "         ...,\n",
              "         [0.78039216, 0.74117647, 0.73333333],\n",
              "         [0.76078431, 0.72156863, 0.71372549],\n",
              "         [0.73333333, 0.69411765, 0.68235294]]],\n",
              "\n",
              "\n",
              "       ...,\n",
              "\n",
              "\n",
              "       [[[0.20392157, 0.31372549, 0.16862745],\n",
              "         [0.21960784, 0.32156863, 0.17647059],\n",
              "         [0.23137255, 0.32941176, 0.19607843],\n",
              "         ...,\n",
              "         [0.34901961, 0.40784314, 0.31372549],\n",
              "         [0.29411765, 0.34509804, 0.25882353],\n",
              "         [0.22745098, 0.2745098 , 0.19607843]],\n",
              "\n",
              "        [[0.23137255, 0.37254902, 0.18431373],\n",
              "         [0.23137255, 0.37254902, 0.16862745],\n",
              "         [0.2627451 , 0.39607843, 0.19215686],\n",
              "         ...,\n",
              "         [0.40392157, 0.48235294, 0.35686275],\n",
              "         [0.37254902, 0.44313725, 0.3254902 ],\n",
              "         [0.29019608, 0.34509804, 0.23529412]],\n",
              "\n",
              "        [[0.25098039, 0.39215686, 0.20784314],\n",
              "         [0.26666667, 0.41176471, 0.2       ],\n",
              "         [0.29803922, 0.42352941, 0.21176471],\n",
              "         ...,\n",
              "         [0.38039216, 0.4745098 , 0.3254902 ],\n",
              "         [0.35686275, 0.45098039, 0.30196078],\n",
              "         [0.29803922, 0.36470588, 0.22352941]],\n",
              "\n",
              "        ...,\n",
              "\n",
              "        [[0.16078431, 0.27843137, 0.13333333],\n",
              "         [0.16862745, 0.34117647, 0.15686275],\n",
              "         [0.20392157, 0.38431373, 0.19215686],\n",
              "         ...,\n",
              "         [0.25098039, 0.37254902, 0.15686275],\n",
              "         [0.26666667, 0.43137255, 0.16078431],\n",
              "         [0.22352941, 0.41176471, 0.16078431]],\n",
              "\n",
              "        [[0.15686275, 0.28235294, 0.13333333],\n",
              "         [0.15686275, 0.3372549 , 0.14509804],\n",
              "         [0.17647059, 0.36470588, 0.16078431],\n",
              "         ...,\n",
              "         [0.23921569, 0.35294118, 0.17647059],\n",
              "         [0.2627451 , 0.40392157, 0.17647059],\n",
              "         [0.21176471, 0.39607843, 0.15686275]],\n",
              "\n",
              "        [[0.14117647, 0.25882353, 0.1372549 ],\n",
              "         [0.1372549 , 0.30588235, 0.1372549 ],\n",
              "         [0.14901961, 0.30980392, 0.14117647],\n",
              "         ...,\n",
              "         [0.23529412, 0.33333333, 0.20784314],\n",
              "         [0.23529412, 0.35686275, 0.19215686],\n",
              "         [0.21568627, 0.36470588, 0.16470588]]],\n",
              "\n",
              "\n",
              "       [[[0.21176471, 0.16078431, 0.05098039],\n",
              "         [0.18823529, 0.14509804, 0.05098039],\n",
              "         [0.18823529, 0.14901961, 0.07058824],\n",
              "         ...,\n",
              "         [0.24313725, 0.19607843, 0.08627451],\n",
              "         [0.25098039, 0.20784314, 0.10196078],\n",
              "         [0.21176471, 0.16470588, 0.0627451 ]],\n",
              "\n",
              "        [[0.18039216, 0.13333333, 0.04313725],\n",
              "         [0.18039216, 0.13333333, 0.05490196],\n",
              "         [0.18431373, 0.1372549 , 0.0627451 ],\n",
              "         ...,\n",
              "         [0.23921569, 0.19215686, 0.07843137],\n",
              "         [0.24313725, 0.2       , 0.09411765],\n",
              "         [0.21960784, 0.17254902, 0.07058824]],\n",
              "\n",
              "        [[0.17647059, 0.12941176, 0.05098039],\n",
              "         [0.17647059, 0.12941176, 0.04705882],\n",
              "         [0.18431373, 0.1372549 , 0.04705882],\n",
              "         ...,\n",
              "         [0.23529412, 0.19215686, 0.0745098 ],\n",
              "         [0.23921569, 0.19607843, 0.08627451],\n",
              "         [0.23529412, 0.18823529, 0.08235294]],\n",
              "\n",
              "        ...,\n",
              "\n",
              "        [[0.54901961, 0.48235294, 0.37647059],\n",
              "         [0.51764706, 0.45490196, 0.29803922],\n",
              "         [0.5254902 , 0.45490196, 0.29019608],\n",
              "         ...,\n",
              "         [0.27843137, 0.21960784, 0.10980392],\n",
              "         [0.36862745, 0.30980392, 0.18431373],\n",
              "         [0.34509804, 0.28235294, 0.15294118]],\n",
              "\n",
              "        [[0.51372549, 0.45098039, 0.33333333],\n",
              "         [0.4745098 , 0.41568627, 0.26666667],\n",
              "         [0.47058824, 0.40392157, 0.2627451 ],\n",
              "         ...,\n",
              "         [0.23137255, 0.17254902, 0.0627451 ],\n",
              "         [0.3254902 , 0.26666667, 0.14117647],\n",
              "         [0.3372549 , 0.27843137, 0.14901961]],\n",
              "\n",
              "        [[0.41960784, 0.35686275, 0.23529412],\n",
              "         [0.42745098, 0.37254902, 0.22745098],\n",
              "         [0.48235294, 0.42352941, 0.29803922],\n",
              "         ...,\n",
              "         [0.22745098, 0.16862745, 0.05490196],\n",
              "         [0.30196078, 0.24313725, 0.11764706],\n",
              "         [0.30980392, 0.25098039, 0.12156863]]],\n",
              "\n",
              "\n",
              "       [[[0.21568627, 0.21176471, 0.23529412],\n",
              "         [0.2745098 , 0.2745098 , 0.27843137],\n",
              "         [0.21568627, 0.21568627, 0.22745098],\n",
              "         ...,\n",
              "         [0.21568627, 0.22352941, 0.27843137],\n",
              "         [0.19215686, 0.21176471, 0.2627451 ],\n",
              "         [0.20392157, 0.23137255, 0.28235294]],\n",
              "\n",
              "        [[0.22745098, 0.22352941, 0.23921569],\n",
              "         [0.30196078, 0.30196078, 0.29803922],\n",
              "         [0.22745098, 0.22352941, 0.23529412],\n",
              "         ...,\n",
              "         [0.21568627, 0.21960784, 0.27058824],\n",
              "         [0.19215686, 0.20392157, 0.25490196],\n",
              "         [0.19215686, 0.21568627, 0.2627451 ]],\n",
              "\n",
              "        [[0.21568627, 0.21176471, 0.22352941],\n",
              "         [0.30588235, 0.30588235, 0.29411765],\n",
              "         [0.25098039, 0.25098039, 0.25098039],\n",
              "         ...,\n",
              "         [0.20784314, 0.20392157, 0.25098039],\n",
              "         [0.19215686, 0.19607843, 0.24705882],\n",
              "         [0.19607843, 0.21568627, 0.25882353]],\n",
              "\n",
              "        ...,\n",
              "\n",
              "        [[0.2       , 0.19215686, 0.21176471],\n",
              "         [0.23137255, 0.22352941, 0.23137255],\n",
              "         [0.30588235, 0.30196078, 0.29411765],\n",
              "         ...,\n",
              "         [0.19607843, 0.2       , 0.21568627],\n",
              "         [0.16470588, 0.16862745, 0.18823529],\n",
              "         [0.16470588, 0.16470588, 0.19607843]],\n",
              "\n",
              "        [[0.21960784, 0.20784314, 0.23921569],\n",
              "         [0.21960784, 0.20784314, 0.22745098],\n",
              "         [0.25098039, 0.24705882, 0.25490196],\n",
              "         ...,\n",
              "         [0.18039216, 0.17647059, 0.19607843],\n",
              "         [0.15686275, 0.16078431, 0.18431373],\n",
              "         [0.16078431, 0.16470588, 0.19215686]],\n",
              "\n",
              "        [[0.21568627, 0.20784314, 0.23137255],\n",
              "         [0.21568627, 0.20784314, 0.22745098],\n",
              "         [0.23529412, 0.22745098, 0.24313725],\n",
              "         ...,\n",
              "         [0.20392157, 0.19607843, 0.20392157],\n",
              "         [0.15686275, 0.16470588, 0.18431373],\n",
              "         [0.14901961, 0.16078431, 0.18431373]]]])"
            ]
          },
          "metadata": {},
          "execution_count": 38
        }
      ]
    },
    {
      "cell_type": "code",
      "source": [],
      "metadata": {
        "id": "PbBxarZz2ZWW"
      },
      "execution_count": null,
      "outputs": []
    }
  ]
}